{
 "cells": [
  {
   "cell_type": "code",
   "execution_count": 1,
   "id": "e83ca2fc",
   "metadata": {},
   "outputs": [],
   "source": [
    "%load_ext autoreload\n",
    "%autoreload 2"
   ]
  },
  {
   "cell_type": "code",
   "execution_count": 2,
   "id": "82a07892",
   "metadata": {},
   "outputs": [
    {
     "name": "stdout",
     "output_type": "stream",
     "text": [
      "/home/taint/CodeSpace/adk-samples/agents/agent_demo\n"
     ]
    }
   ],
   "source": [
    "%cd .."
   ]
  },
  {
   "cell_type": "code",
   "execution_count": 3,
   "id": "8bc2c859",
   "metadata": {},
   "outputs": [
    {
     "name": "stdout",
     "output_type": "stream",
     "text": [
      "db  experiments  main.py  __pycache__  pyproject.toml  README.md  src  uv.lock\n"
     ]
    }
   ],
   "source": [
    "!ls"
   ]
  },
  {
   "cell_type": "code",
   "execution_count": 4,
   "id": "b856581a",
   "metadata": {},
   "outputs": [],
   "source": [
    "from src.services.agent_runner import setup_session_service_and_runner\n",
    "from google.genai import types"
   ]
  },
  {
   "cell_type": "code",
   "execution_count": 5,
   "id": "a8009e50",
   "metadata": {},
   "outputs": [],
   "source": [
    "async def async_main(query:str):\n",
    "    session, runner, exit_stack = await setup_session_service_and_runner(app_name=\"mcp\", user_id=\"taint2\", session_id=\"2\")\n",
    "    \n",
    "    content = types.Content(role='user', parts=[types.Part(text=query)])\n",
    "\n",
    "    print(\"Running agent...\")\n",
    "    events_async = runner.run_async(\n",
    "        session_id=session.id, user_id=session.user_id, new_message=content\n",
    "    )\n",
    "\n",
    "    async for event in events_async:\n",
    "        print(\"Event received:\", event)\n",
    "\n",
    "    # Crucial Cleanup: Ensure the MCP server process connection is closed.\n",
    "    print(\"Closing MCP server connection...\")\n",
    "    await exit_stack.aclose()\n",
    "    print(\"Cleanup complete.\")"
   ]
  },
  {
   "cell_type": "code",
   "execution_count": 6,
   "id": "7517b1e1",
   "metadata": {},
   "outputs": [
    {
     "name": "stderr",
     "output_type": "stream",
     "text": [
      "\u001b[32m2025-04-28 17:39:38.547\u001b[0m | \u001b[1mINFO    \u001b[0m | \u001b[36msrc.resources.mcp_server.mcp_alchemy\u001b[0m:\u001b[36mget_sqlite_alchemy_client\u001b[0m:\u001b[36m6\u001b[0m - \u001b[1mAttempting to connect to Alchemy client...\u001b[0m\n"
     ]
    },
    {
     "name": "stderr",
     "output_type": "stream",
     "text": [
      "\u001b[32m2025-04-28 17:39:40.518\u001b[0m | \u001b[1mINFO    \u001b[0m | \u001b[36msrc.services.agent_runner\u001b[0m:\u001b[36msetup_session_service_and_runner\u001b[0m:\u001b[36m34\u001b[0m - \u001b[1mSession created: App='mcp', User='taint2', Session='2'\u001b[0m\n",
      "\u001b[32m2025-04-28 17:39:40.519\u001b[0m | \u001b[1mINFO    \u001b[0m | \u001b[36msrc.services.agent_runner\u001b[0m:\u001b[36msetup_session_service_and_runner\u001b[0m:\u001b[36m46\u001b[0m - \u001b[1mRunner created for agent 'main_agent_v2'.\u001b[0m\n"
     ]
    },
    {
     "name": "stdout",
     "output_type": "stream",
     "text": [
      "Running agent...\n",
      "Event received: content=Content(parts=[Part(video_metadata=None, thought=None, code_execution_result=None, executable_code=None, file_data=None, function_call=FunctionCall(id='0', args={'agent_name': 'sql_agent_v0'}, name='transfer_to_agent'), function_response=None, inline_data=None, text=None)], role='model') grounding_metadata=None partial=False turn_complete=None error_code=None error_message=None interrupted=None invocation_id='e-b6e9c1d4-f7c3-43f1-9e27-3b47569f9066' author='main_agent_v2' actions=EventActions(skip_summarization=None, state_delta={}, artifact_delta={}, transfer_to_agent=None, escalate=None, requested_auth_configs={}) long_running_tool_ids=set() branch=None id='ZfZHzlTR' timestamp=1745836780.520267\n",
      "Event received: content=Content(parts=[Part(video_metadata=None, thought=None, code_execution_result=None, executable_code=None, file_data=None, function_call=None, function_response=FunctionResponse(id='0', name='transfer_to_agent', response={}), inline_data=None, text=None)], role='user') grounding_metadata=None partial=None turn_complete=None error_code=None error_message=None interrupted=None invocation_id='e-b6e9c1d4-f7c3-43f1-9e27-3b47569f9066' author='main_agent_v2' actions=EventActions(skip_summarization=None, state_delta={}, artifact_delta={}, transfer_to_agent='sql_agent_v0', escalate=None, requested_auth_configs={}) long_running_tool_ids=None branch=None id='GmufttqU' timestamp=1745836783.649311\n"
     ]
    },
    {
     "name": "stderr",
     "output_type": "stream",
     "text": [
      "/home/taint/CodeSpace/adk-samples/agents/agent_demo/.venv/lib/python3.12/site-packages/google/genai/_common.py:237: UserWarning: null is not a valid Type\n",
      "  warnings.warn(f\"{value} is not a valid {cls.__name__}\")\n"
     ]
    },
    {
     "name": "stdout",
     "output_type": "stream",
     "text": [
      "Event received: content=Content(parts=[Part(video_metadata=None, thought=None, code_execution_result=None, executable_code=None, file_data=None, function_call=FunctionCall(id='1', args={}, name='all_table_names'), function_response=None, inline_data=None, text=None)], role='model') grounding_metadata=None partial=False turn_complete=None error_code=None error_message=None interrupted=None invocation_id='e-b6e9c1d4-f7c3-43f1-9e27-3b47569f9066' author='sql_agent_v0' actions=EventActions(skip_summarization=None, state_delta={}, artifact_delta={}, transfer_to_agent=None, escalate=None, requested_auth_configs={}) long_running_tool_ids=set() branch=None id='ynx7n5rf' timestamp=1745836783.650281\n",
      "Event received: content=Content(parts=[Part(video_metadata=None, thought=None, code_execution_result=None, executable_code=None, file_data=None, function_call=None, function_response=FunctionResponse(id='1', name='all_table_names', response={'result': CallToolResult(meta=None, content=[TextContent(type='text', text='albums, artists, customers, employees, genres, invoice_items, invoices, media_types, playlist_track, playlists, tracks', annotations=None)], isError=False)}), inline_data=None, text=None)], role='user') grounding_metadata=None partial=None turn_complete=None error_code=None error_message=None interrupted=None invocation_id='e-b6e9c1d4-f7c3-43f1-9e27-3b47569f9066' author='sql_agent_v0' actions=EventActions(skip_summarization=None, state_delta={}, artifact_delta={}, transfer_to_agent=None, escalate=None, requested_auth_configs={}) long_running_tool_ids=None branch=None id='TURkaOCA' timestamp=1745836787.862328\n",
      "Event received: content=Content(parts=[Part(video_metadata=None, thought=None, code_execution_result=None, executable_code=None, file_data=None, function_call=None, function_response=None, inline_data=None, text='There are **11 tables** in the database. The tables are: albums, artists, customers, employees, genres, invoice_items, invoices, media_types, playlist_track, playlists, and tracks.')], role='model') grounding_metadata=None partial=False turn_complete=None error_code=None error_message=None interrupted=None invocation_id='e-b6e9c1d4-f7c3-43f1-9e27-3b47569f9066' author='sql_agent_v0' actions=EventActions(skip_summarization=None, state_delta={}, artifact_delta={}, transfer_to_agent=None, escalate=None, requested_auth_configs={}) long_running_tool_ids=None branch=None id='vN7DYCXI' timestamp=1745836787.863021\n",
      "Closing MCP server connection...\n",
      "Cleanup complete.\n"
     ]
    }
   ],
   "source": [
    "await async_main(\"how many the tables in the database?\")"
   ]
  },
  {
   "cell_type": "code",
   "execution_count": 7,
   "id": "c3e5c612",
   "metadata": {},
   "outputs": [
    {
     "name": "stderr",
     "output_type": "stream",
     "text": [
      "\u001b[32m2025-04-28 16:11:25.347\u001b[0m | \u001b[1mINFO    \u001b[0m | \u001b[36msrc.resources.mcp_server.mcp_alchemy\u001b[0m:\u001b[36mget_sqlite_alchemy_client\u001b[0m:\u001b[36m6\u001b[0m - \u001b[1mAttempting to connect to Alchemy client...\u001b[0m\n"
     ]
    },
    {
     "name": "stderr",
     "output_type": "stream",
     "text": [
      "\u001b[32m2025-04-28 16:11:26.518\u001b[0m | \u001b[1mINFO    \u001b[0m | \u001b[36msrc.services.agent_runner\u001b[0m:\u001b[36msetup_session_service_and_runner\u001b[0m:\u001b[36m34\u001b[0m - \u001b[1mSession created: App='mcp', User='taint2', Session='2'\u001b[0m\n",
      "\u001b[32m2025-04-28 16:11:26.519\u001b[0m | \u001b[1mINFO    \u001b[0m | \u001b[36msrc.services.agent_runner\u001b[0m:\u001b[36msetup_session_service_and_runner\u001b[0m:\u001b[36m46\u001b[0m - \u001b[1mRunner created for agent 'main_agent_v2'.\u001b[0m\n"
     ]
    },
    {
     "name": "stdout",
     "output_type": "stream",
     "text": [
      "Running agent...\n",
      "Event received: content=Content(parts=[Part(video_metadata=None, thought=None, code_execution_result=None, executable_code=None, file_data=None, function_call=FunctionCall(id='0', args={'agent_name': 'sql_agent_v0'}, name='transfer_to_agent'), function_response=None, inline_data=None, text=None)], role='model') grounding_metadata=None partial=False turn_complete=None error_code=None error_message=None interrupted=None invocation_id='e-f442cdca-500a-4ab5-94fa-1d715f321563' author='main_agent_v2' actions=EventActions(skip_summarization=None, state_delta={}, artifact_delta={}, transfer_to_agent=None, escalate=None, requested_auth_configs={}) long_running_tool_ids=set() branch=None id='bU7xrBnu' timestamp=1745831486.519759\n",
      "Event received: content=Content(parts=[Part(video_metadata=None, thought=None, code_execution_result=None, executable_code=None, file_data=None, function_call=None, function_response=FunctionResponse(id='0', name='transfer_to_agent', response={}), inline_data=None, text=None)], role='user') grounding_metadata=None partial=None turn_complete=None error_code=None error_message=None interrupted=None invocation_id='e-f442cdca-500a-4ab5-94fa-1d715f321563' author='main_agent_v2' actions=EventActions(skip_summarization=None, state_delta={}, artifact_delta={}, transfer_to_agent='sql_agent_v0', escalate=None, requested_auth_configs={}) long_running_tool_ids=None branch=None id='RRivZWq3' timestamp=1745831491.417783\n"
     ]
    },
    {
     "name": "stderr",
     "output_type": "stream",
     "text": [
      "/home/taint/CodeSpace/adk-samples/agents/agent_demo/.venv/lib/python3.12/site-packages/google/genai/_common.py:237: UserWarning: null is not a valid Type\n",
      "  warnings.warn(f\"{value} is not a valid {cls.__name__}\")\n"
     ]
    },
    {
     "name": "stdout",
     "output_type": "stream",
     "text": [
      "Event received: content=Content(parts=[Part(video_metadata=None, thought=None, code_execution_result=None, executable_code=None, file_data=None, function_call=None, function_response=None, inline_data=None, text='The name of the database is **chinook.db**. It is located at the path `/home/taint/CodeSpace/adk-samples/agents/agent_demo/db/chinook.db`.')], role='model') grounding_metadata=None partial=False turn_complete=None error_code=None error_message=None interrupted=None invocation_id='e-f442cdca-500a-4ab5-94fa-1d715f321563' author='sql_agent_v0' actions=EventActions(skip_summarization=None, state_delta={}, artifact_delta={}, transfer_to_agent=None, escalate=None, requested_auth_configs={}) long_running_tool_ids=None branch=None id='SwsHyNR7' timestamp=1745831491.418385\n",
      "Closing MCP server connection...\n",
      "Cleanup complete.\n"
     ]
    }
   ],
   "source": [
    "await async_main(\"What is the name of the database?\")"
   ]
  },
  {
   "cell_type": "code",
   "execution_count": 8,
   "id": "7de928fa",
   "metadata": {},
   "outputs": [
    {
     "name": "stderr",
     "output_type": "stream",
     "text": [
      "\u001b[32m2025-04-28 16:11:55.387\u001b[0m | \u001b[1mINFO    \u001b[0m | \u001b[36msrc.resources.mcp_server.mcp_alchemy\u001b[0m:\u001b[36mget_sqlite_alchemy_client\u001b[0m:\u001b[36m6\u001b[0m - \u001b[1mAttempting to connect to Alchemy client...\u001b[0m\n",
      "\u001b[32m2025-04-28 16:11:56.555\u001b[0m | \u001b[1mINFO    \u001b[0m | \u001b[36msrc.services.agent_runner\u001b[0m:\u001b[36msetup_session_service_and_runner\u001b[0m:\u001b[36m34\u001b[0m - \u001b[1mSession created: App='mcp', User='taint2', Session='2'\u001b[0m\n",
      "\u001b[32m2025-04-28 16:11:56.556\u001b[0m | \u001b[1mINFO    \u001b[0m | \u001b[36msrc.services.agent_runner\u001b[0m:\u001b[36msetup_session_service_and_runner\u001b[0m:\u001b[36m46\u001b[0m - \u001b[1mRunner created for agent 'main_agent_v2'.\u001b[0m\n"
     ]
    },
    {
     "name": "stdout",
     "output_type": "stream",
     "text": [
      "Running agent...\n",
      "Event received: content=Content(parts=[Part(video_metadata=None, thought=None, code_execution_result=None, executable_code=None, file_data=None, function_call=FunctionCall(id='0', args={'agent_name': 'sql_agent_v0'}, name='transfer_to_agent'), function_response=None, inline_data=None, text=None)], role='model') grounding_metadata=None partial=False turn_complete=None error_code=None error_message=None interrupted=None invocation_id='e-54cf216d-2810-4c6c-92e5-5004b0f6ad75' author='main_agent_v2' actions=EventActions(skip_summarization=None, state_delta={}, artifact_delta={}, transfer_to_agent=None, escalate=None, requested_auth_configs={}) long_running_tool_ids=set() branch=None id='h2xrdk9b' timestamp=1745831516.557006\n",
      "Event received: content=Content(parts=[Part(video_metadata=None, thought=None, code_execution_result=None, executable_code=None, file_data=None, function_call=None, function_response=FunctionResponse(id='0', name='transfer_to_agent', response={}), inline_data=None, text=None)], role='user') grounding_metadata=None partial=None turn_complete=None error_code=None error_message=None interrupted=None invocation_id='e-54cf216d-2810-4c6c-92e5-5004b0f6ad75' author='main_agent_v2' actions=EventActions(skip_summarization=None, state_delta={}, artifact_delta={}, transfer_to_agent='sql_agent_v0', escalate=None, requested_auth_configs={}) long_running_tool_ids=None branch=None id='HX5FzymD' timestamp=1745831520.497638\n"
     ]
    },
    {
     "name": "stderr",
     "output_type": "stream",
     "text": [
      "/home/taint/CodeSpace/adk-samples/agents/agent_demo/.venv/lib/python3.12/site-packages/google/genai/_common.py:237: UserWarning: null is not a valid Type\n",
      "  warnings.warn(f\"{value} is not a valid {cls.__name__}\")\n"
     ]
    },
    {
     "name": "stdout",
     "output_type": "stream",
     "text": [
      "Event received: content=Content(parts=[Part(video_metadata=None, thought=None, code_execution_result=None, executable_code=None, file_data=None, function_call=FunctionCall(id='3', args={'table_names': ['Album']}, name='schema_definitions'), function_response=None, inline_data=None, text=None)], role='model') grounding_metadata=None partial=False turn_complete=None error_code=None error_message=None interrupted=None invocation_id='e-54cf216d-2810-4c6c-92e5-5004b0f6ad75' author='sql_agent_v0' actions=EventActions(skip_summarization=None, state_delta={}, artifact_delta={}, transfer_to_agent=None, escalate=None, requested_auth_configs={}) long_running_tool_ids=set() branch=None id='B7HwNXK6' timestamp=1745831520.498249\n",
      "Event received: content=Content(parts=[Part(video_metadata=None, thought=None, code_execution_result=None, executable_code=None, file_data=None, function_call=None, function_response=FunctionResponse(id='3', name='schema_definitions', response={'result': CallToolResult(meta=None, content=[TextContent(type='text', text='Error executing tool schema_definitions: Album', annotations=None)], isError=True)}), inline_data=None, text=None)], role='user') grounding_metadata=None partial=None turn_complete=None error_code=None error_message=None interrupted=None invocation_id='e-54cf216d-2810-4c6c-92e5-5004b0f6ad75' author='sql_agent_v0' actions=EventActions(skip_summarization=None, state_delta={}, artifact_delta={}, transfer_to_agent=None, escalate=None, requested_auth_configs={}) long_running_tool_ids=None branch=None id='s9KXXAED' timestamp=1745831529.440759\n",
      "Event received: content=Content(parts=[Part(video_metadata=None, thought=None, code_execution_result=None, executable_code=None, file_data=None, function_call=None, function_response=None, inline_data=None, text='To determine the schema of the \"albums\" table, I first need to confirm its exact name in the database. Let me retrieve the list of all tables to verify:'), Part(video_metadata=None, thought=None, code_execution_result=None, executable_code=None, file_data=None, function_call=FunctionCall(id='1', args={}, name='all_table_names'), function_response=None, inline_data=None, text=None)], role='model') grounding_metadata=None partial=False turn_complete=None error_code=None error_message=None interrupted=None invocation_id='e-54cf216d-2810-4c6c-92e5-5004b0f6ad75' author='sql_agent_v0' actions=EventActions(skip_summarization=None, state_delta={}, artifact_delta={}, transfer_to_agent=None, escalate=None, requested_auth_configs={}) long_running_tool_ids=set() branch=None id='RLZM8lBk' timestamp=1745831529.44169\n",
      "Event received: content=Content(parts=[Part(video_metadata=None, thought=None, code_execution_result=None, executable_code=None, file_data=None, function_call=None, function_response=FunctionResponse(id='1', name='all_table_names', response={'result': CallToolResult(meta=None, content=[TextContent(type='text', text='albums, artists, customers, employees, genres, invoice_items, invoices, media_types, playlist_track, playlists, tracks', annotations=None)], isError=False)}), inline_data=None, text=None)], role='user') grounding_metadata=None partial=None turn_complete=None error_code=None error_message=None interrupted=None invocation_id='e-54cf216d-2810-4c6c-92e5-5004b0f6ad75' author='sql_agent_v0' actions=EventActions(skip_summarization=None, state_delta={}, artifact_delta={}, transfer_to_agent=None, escalate=None, requested_auth_configs={}) long_running_tool_ids=None branch=None id='TEDfq7OD' timestamp=1745831538.032587\n",
      "Event received: content=Content(parts=[Part(video_metadata=None, thought=None, code_execution_result=None, executable_code=None, file_data=None, function_call=FunctionCall(id='3', args={'table_names': ['albums']}, name='schema_definitions'), function_response=None, inline_data=None, text=None)], role='model') grounding_metadata=None partial=False turn_complete=None error_code=None error_message=None interrupted=None invocation_id='e-54cf216d-2810-4c6c-92e5-5004b0f6ad75' author='sql_agent_v0' actions=EventActions(skip_summarization=None, state_delta={}, artifact_delta={}, transfer_to_agent=None, escalate=None, requested_auth_configs={}) long_running_tool_ids=set() branch=None id='9AztYjE8' timestamp=1745831538.033413\n",
      "Event received: content=Content(parts=[Part(video_metadata=None, thought=None, code_execution_result=None, executable_code=None, file_data=None, function_call=None, function_response=FunctionResponse(id='3', name='schema_definitions', response={'result': CallToolResult(meta=None, content=[TextContent(type='text', text='albums:\\n    AlbumId: primary key, INTEGER, primary_key=1\\n    Title: NVARCHAR(160)\\n    ArtistId: INTEGER\\n\\n    Relationships:\\n      ArtistId -> artists.ArtistId', annotations=None)], isError=False)}), inline_data=None, text=None)], role='user') grounding_metadata=None partial=None turn_complete=None error_code=None error_message=None interrupted=None invocation_id='e-54cf216d-2810-4c6c-92e5-5004b0f6ad75' author='sql_agent_v0' actions=EventActions(skip_summarization=None, state_delta={}, artifact_delta={}, transfer_to_agent=None, escalate=None, requested_auth_configs={}) long_running_tool_ids=None branch=None id='TuXwEHXZ' timestamp=1745831542.998167\n",
      "Event received: content=Content(parts=[Part(video_metadata=None, thought=None, code_execution_result=None, executable_code=None, file_data=None, function_call=None, function_response=None, inline_data=None, text='The schema of the **albums** table is as follows:\\n\\n```plaintext\\nalbums:\\n    AlbumId: PRIMARY KEY (INTEGER)\\n    Title: NVARCHAR(160)\\n    ArtistId: INTEGER\\n\\nRelationships:\\n    ArtistId -> artists.ArtistId (foreign key to the artists table)\\n```\\n\\nThis table tracks album entries with their unique ID (`AlbumId`), title (`Title`), and the ID of the associated artist (`ArtistId`, linked to the `artists` table).')], role='model') grounding_metadata=None partial=False turn_complete=None error_code=None error_message=None interrupted=None invocation_id='e-54cf216d-2810-4c6c-92e5-5004b0f6ad75' author='sql_agent_v0' actions=EventActions(skip_summarization=None, state_delta={}, artifact_delta={}, transfer_to_agent=None, escalate=None, requested_auth_configs={}) long_running_tool_ids=None branch=None id='tBbC6vfD' timestamp=1745831542.998964\n",
      "Closing MCP server connection...\n",
      "Cleanup complete.\n"
     ]
    }
   ],
   "source": [
    "await async_main(\"What is the schema of the albums table?\")"
   ]
  },
  {
   "cell_type": "code",
   "execution_count": 9,
   "id": "75ab82f3",
   "metadata": {},
   "outputs": [
    {
     "name": "stderr",
     "output_type": "stream",
     "text": [
      "\u001b[32m2025-04-28 16:16:28.980\u001b[0m | \u001b[1mINFO    \u001b[0m | \u001b[36msrc.resources.mcp_server.mcp_alchemy\u001b[0m:\u001b[36mget_sqlite_alchemy_client\u001b[0m:\u001b[36m6\u001b[0m - \u001b[1mAttempting to connect to Alchemy client...\u001b[0m\n"
     ]
    },
    {
     "name": "stderr",
     "output_type": "stream",
     "text": [
      "\u001b[32m2025-04-28 16:16:30.148\u001b[0m | \u001b[1mINFO    \u001b[0m | \u001b[36msrc.services.agent_runner\u001b[0m:\u001b[36msetup_session_service_and_runner\u001b[0m:\u001b[36m34\u001b[0m - \u001b[1mSession created: App='mcp', User='taint2', Session='2'\u001b[0m\n",
      "\u001b[32m2025-04-28 16:16:30.149\u001b[0m | \u001b[1mINFO    \u001b[0m | \u001b[36msrc.services.agent_runner\u001b[0m:\u001b[36msetup_session_service_and_runner\u001b[0m:\u001b[36m46\u001b[0m - \u001b[1mRunner created for agent 'main_agent_v2'.\u001b[0m\n"
     ]
    },
    {
     "name": "stdout",
     "output_type": "stream",
     "text": [
      "Running agent...\n",
      "Event received: content=Content(parts=[Part(video_metadata=None, thought=None, code_execution_result=None, executable_code=None, file_data=None, function_call=FunctionCall(id='0', args={'agent_name': 'sql_agent_v0'}, name='transfer_to_agent'), function_response=None, inline_data=None, text=None)], role='model') grounding_metadata=None partial=False turn_complete=None error_code=None error_message=None interrupted=None invocation_id='e-5e931282-be9d-471c-81fd-25b69e1da884' author='main_agent_v2' actions=EventActions(skip_summarization=None, state_delta={}, artifact_delta={}, transfer_to_agent=None, escalate=None, requested_auth_configs={}) long_running_tool_ids=set() branch=None id='KsCJVZZA' timestamp=1745831790.150285\n",
      "Event received: content=Content(parts=[Part(video_metadata=None, thought=None, code_execution_result=None, executable_code=None, file_data=None, function_call=None, function_response=FunctionResponse(id='0', name='transfer_to_agent', response={}), inline_data=None, text=None)], role='user') grounding_metadata=None partial=None turn_complete=None error_code=None error_message=None interrupted=None invocation_id='e-5e931282-be9d-471c-81fd-25b69e1da884' author='main_agent_v2' actions=EventActions(skip_summarization=None, state_delta={}, artifact_delta={}, transfer_to_agent='sql_agent_v0', escalate=None, requested_auth_configs={}) long_running_tool_ids=None branch=None id='xWielboy' timestamp=1745831795.365209\n"
     ]
    },
    {
     "name": "stderr",
     "output_type": "stream",
     "text": [
      "/home/taint/CodeSpace/adk-samples/agents/agent_demo/.venv/lib/python3.12/site-packages/google/genai/_common.py:237: UserWarning: null is not a valid Type\n",
      "  warnings.warn(f\"{value} is not a valid {cls.__name__}\")\n"
     ]
    },
    {
     "name": "stdout",
     "output_type": "stream",
     "text": [
      "Event received: content=Content(parts=[Part(video_metadata=None, thought=None, code_execution_result=None, executable_code=None, file_data=None, function_call=FunctionCall(id='4', args={'query': \"SELECT MediaType.Name FROM Track JOIN MediaType ON Track.MediaTypeId = MediaType.MediaTypeId WHERE Track.Name = 'Fast As a Shark'\", 'params': None}, name='execute_query'), function_response=None, inline_data=None, text=None)], role='model') grounding_metadata=None partial=False turn_complete=None error_code=None error_message=None interrupted=None invocation_id='e-5e931282-be9d-471c-81fd-25b69e1da884' author='sql_agent_v0' actions=EventActions(skip_summarization=None, state_delta={}, artifact_delta={}, transfer_to_agent=None, escalate=None, requested_auth_configs={}) long_running_tool_ids=set() branch=None id='6syXwQbw' timestamp=1745831795.365833\n",
      "Event received: content=Content(parts=[Part(video_metadata=None, thought=None, code_execution_result=None, executable_code=None, file_data=None, function_call=None, function_response=FunctionResponse(id='4', name='execute_query', response={'result': CallToolResult(meta=None, content=[TextContent(type='text', text=\"Error: (sqlite3.OperationalError) no such table: Track\\n[SQL: SELECT MediaType.Name FROM Track JOIN MediaType ON Track.MediaTypeId = MediaType.MediaTypeId WHERE Track.Name = 'Fast As a Shark']\\n(Background on this error at: https://sqlalche.me/e/20/e3q8)\", annotations=None)], isError=False)}), inline_data=None, text=None)], role='user') grounding_metadata=None partial=None turn_complete=None error_code=None error_message=None interrupted=None invocation_id='e-5e931282-be9d-471c-81fd-25b69e1da884' author='sql_agent_v0' actions=EventActions(skip_summarization=None, state_delta={}, artifact_delta={}, transfer_to_agent=None, escalate=None, requested_auth_configs={}) long_running_tool_ids=None branch=None id='9RNjYW0h' timestamp=1745831806.745951\n",
      "Event received: content=Content(parts=[Part(video_metadata=None, thought=None, code_execution_result=None, executable_code=None, file_data=None, function_call=None, function_response=None, inline_data=None, text=\"To determine the correct table name, I'll first list all tables in the database.\"), Part(video_metadata=None, thought=None, code_execution_result=None, executable_code=None, file_data=None, function_call=FunctionCall(id='1', args={}, name='all_table_names'), function_response=None, inline_data=None, text=None)], role='model') grounding_metadata=None partial=False turn_complete=None error_code=None error_message=None interrupted=None invocation_id='e-5e931282-be9d-471c-81fd-25b69e1da884' author='sql_agent_v0' actions=EventActions(skip_summarization=None, state_delta={}, artifact_delta={}, transfer_to_agent=None, escalate=None, requested_auth_configs={}) long_running_tool_ids=set() branch=None id='yOJnSZ9u' timestamp=1745831806.746655\n",
      "Event received: content=Content(parts=[Part(video_metadata=None, thought=None, code_execution_result=None, executable_code=None, file_data=None, function_call=None, function_response=FunctionResponse(id='1', name='all_table_names', response={'result': CallToolResult(meta=None, content=[TextContent(type='text', text='albums, artists, customers, employees, genres, invoice_items, invoices, media_types, playlist_track, playlists, tracks', annotations=None)], isError=False)}), inline_data=None, text=None)], role='user') grounding_metadata=None partial=None turn_complete=None error_code=None error_message=None interrupted=None invocation_id='e-5e931282-be9d-471c-81fd-25b69e1da884' author='sql_agent_v0' actions=EventActions(skip_summarization=None, state_delta={}, artifact_delta={}, transfer_to_agent=None, escalate=None, requested_auth_configs={}) long_running_tool_ids=None branch=None id='m02aSf4C' timestamp=1745831810.755858\n",
      "Event received: content=Content(parts=[Part(video_metadata=None, thought=None, code_execution_result=None, executable_code=None, file_data=None, function_call=FunctionCall(id='4', args={'query': \"SELECT media_types.Name FROM tracks JOIN media_types ON tracks.MediaTypeId = media_types.MediaTypeId WHERE tracks.Name = 'Fast As a Shark'\", 'params': None}, name='execute_query'), function_response=None, inline_data=None, text=None)], role='model') grounding_metadata=None partial=False turn_complete=None error_code=None error_message=None interrupted=None invocation_id='e-5e931282-be9d-471c-81fd-25b69e1da884' author='sql_agent_v0' actions=EventActions(skip_summarization=None, state_delta={}, artifact_delta={}, transfer_to_agent=None, escalate=None, requested_auth_configs={}) long_running_tool_ids=set() branch=None id='4LW7rFvZ' timestamp=1745831810.756591\n",
      "Event received: content=Content(parts=[Part(video_metadata=None, thought=None, code_execution_result=None, executable_code=None, file_data=None, function_call=None, function_response=FunctionResponse(id='4', name='execute_query', response={'result': CallToolResult(meta=None, content=[TextContent(type='text', text='1. row\\nName: Protected AAC audio file\\n\\n\\nResult: 1 rows', annotations=None)], isError=False)}), inline_data=None, text=None)], role='user') grounding_metadata=None partial=None turn_complete=None error_code=None error_message=None interrupted=None invocation_id='e-5e931282-be9d-471c-81fd-25b69e1da884' author='sql_agent_v0' actions=EventActions(skip_summarization=None, state_delta={}, artifact_delta={}, transfer_to_agent=None, escalate=None, requested_auth_configs={}) long_running_tool_ids=None branch=None id='CJab7Pni' timestamp=1745831816.332291\n",
      "Event received: content=Content(parts=[Part(video_metadata=None, thought=None, code_execution_result=None, executable_code=None, file_data=None, function_call=None, function_response=None, inline_data=None, text='The media type name for the track \"Fast As a Shark\" is **Protected AAC audio file**. This was found by querying the `media_types` table joined with the `tracks` table using the media type ID associated with that track.')], role='model') grounding_metadata=None partial=False turn_complete=None error_code=None error_message=None interrupted=None invocation_id='e-5e931282-be9d-471c-81fd-25b69e1da884' author='sql_agent_v0' actions=EventActions(skip_summarization=None, state_delta={}, artifact_delta={}, transfer_to_agent=None, escalate=None, requested_auth_configs={}) long_running_tool_ids=None branch=None id='07hG0boZ' timestamp=1745831816.333058\n",
      "Closing MCP server connection...\n",
      "Cleanup complete.\n"
     ]
    }
   ],
   "source": [
    "await async_main(\"What name of media type of the Fast As a Shark track?\")"
   ]
  },
  {
   "cell_type": "code",
   "execution_count": 10,
   "id": "8e8d4880",
   "metadata": {},
   "outputs": [
    {
     "name": "stderr",
     "output_type": "stream",
     "text": [
      "\u001b[32m2025-04-28 16:24:56.146\u001b[0m | \u001b[1mINFO    \u001b[0m | \u001b[36msrc.resources.mcp_server.mcp_alchemy\u001b[0m:\u001b[36mget_sqlite_alchemy_client\u001b[0m:\u001b[36m6\u001b[0m - \u001b[1mAttempting to connect to Alchemy client...\u001b[0m\n",
      "\u001b[32m2025-04-28 16:24:57.762\u001b[0m | \u001b[1mINFO    \u001b[0m | \u001b[36msrc.services.agent_runner\u001b[0m:\u001b[36msetup_session_service_and_runner\u001b[0m:\u001b[36m34\u001b[0m - \u001b[1mSession created: App='mcp', User='taint2', Session='2'\u001b[0m\n",
      "\u001b[32m2025-04-28 16:24:57.762\u001b[0m | \u001b[1mINFO    \u001b[0m | \u001b[36msrc.services.agent_runner\u001b[0m:\u001b[36msetup_session_service_and_runner\u001b[0m:\u001b[36m46\u001b[0m - \u001b[1mRunner created for agent 'main_agent_v2'.\u001b[0m\n"
     ]
    },
    {
     "name": "stdout",
     "output_type": "stream",
     "text": [
      "Running agent...\n",
      "Event received: content=Content(parts=[Part(video_metadata=None, thought=None, code_execution_result=None, executable_code=None, file_data=None, function_call=FunctionCall(id='0', args={'agent_name': 'sql_agent_v0'}, name='transfer_to_agent'), function_response=None, inline_data=None, text=None)], role='model') grounding_metadata=None partial=False turn_complete=None error_code=None error_message=None interrupted=None invocation_id='e-9b604156-e9e5-4c54-b846-ccec676f2724' author='main_agent_v2' actions=EventActions(skip_summarization=None, state_delta={}, artifact_delta={}, transfer_to_agent=None, escalate=None, requested_auth_configs={}) long_running_tool_ids=set() branch=None id='ReVFV6eP' timestamp=1745832297.763386\n",
      "Event received: content=Content(parts=[Part(video_metadata=None, thought=None, code_execution_result=None, executable_code=None, file_data=None, function_call=None, function_response=FunctionResponse(id='0', name='transfer_to_agent', response={}), inline_data=None, text=None)], role='user') grounding_metadata=None partial=None turn_complete=None error_code=None error_message=None interrupted=None invocation_id='e-9b604156-e9e5-4c54-b846-ccec676f2724' author='main_agent_v2' actions=EventActions(skip_summarization=None, state_delta={}, artifact_delta={}, transfer_to_agent='sql_agent_v0', escalate=None, requested_auth_configs={}) long_running_tool_ids=None branch=None id='t6LQaLkG' timestamp=1745832301.479307\n"
     ]
    },
    {
     "name": "stderr",
     "output_type": "stream",
     "text": [
      "/home/taint/CodeSpace/adk-samples/agents/agent_demo/.venv/lib/python3.12/site-packages/google/genai/_common.py:237: UserWarning: null is not a valid Type\n",
      "  warnings.warn(f\"{value} is not a valid {cls.__name__}\")\n"
     ]
    },
    {
     "name": "stdout",
     "output_type": "stream",
     "text": [
      "Event received: content=Content(parts=[Part(video_metadata=None, thought=None, code_execution_result=None, executable_code=None, file_data=None, function_call=FunctionCall(id='1', args={}, name='all_table_names'), function_response=None, inline_data=None, text=None)], role='model') grounding_metadata=None partial=False turn_complete=None error_code=None error_message=None interrupted=None invocation_id='e-9b604156-e9e5-4c54-b846-ccec676f2724' author='sql_agent_v0' actions=EventActions(skip_summarization=None, state_delta={}, artifact_delta={}, transfer_to_agent=None, escalate=None, requested_auth_configs={}) long_running_tool_ids=set() branch=None id='cgZVpT9a' timestamp=1745832301.479911\n",
      "Event received: content=Content(parts=[Part(video_metadata=None, thought=None, code_execution_result=None, executable_code=None, file_data=None, function_call=None, function_response=FunctionResponse(id='1', name='all_table_names', response={'result': CallToolResult(meta=None, content=[TextContent(type='text', text='albums, artists, customers, employees, genres, invoice_items, invoices, media_types, playlist_track, playlists, tracks', annotations=None)], isError=False)}), inline_data=None, text=None)], role='user') grounding_metadata=None partial=None turn_complete=None error_code=None error_message=None interrupted=None invocation_id='e-9b604156-e9e5-4c54-b846-ccec676f2724' author='sql_agent_v0' actions=EventActions(skip_summarization=None, state_delta={}, artifact_delta={}, transfer_to_agent=None, escalate=None, requested_auth_configs={}) long_running_tool_ids=None branch=None id='Il6j6eAZ' timestamp=1745832304.871277\n",
      "Event received: content=Content(parts=[Part(video_metadata=None, thought=None, code_execution_result=None, executable_code=None, file_data=None, function_call=None, function_response=None, inline_data=None, text=\"The database contains **11 tables**. The tables are:\\n\\nalbums, artists, customers, employees, genres, invoice_items, invoices, media_types, playlist_track, playlists, tracks\\n\\nLet me know if you'd like more details about any specific table!\")], role='model') grounding_metadata=None partial=False turn_complete=None error_code=None error_message=None interrupted=None invocation_id='e-9b604156-e9e5-4c54-b846-ccec676f2724' author='sql_agent_v0' actions=EventActions(skip_summarization=None, state_delta={}, artifact_delta={}, transfer_to_agent=None, escalate=None, requested_auth_configs={}) long_running_tool_ids=None branch=None id='yZYt3lGo' timestamp=1745832304.872457\n",
      "Closing MCP server connection...\n",
      "Cleanup complete.\n"
     ]
    }
   ],
   "source": [
    "await async_main(\"how many the tables in the database?\")"
   ]
  }
 ],
 "metadata": {
  "kernelspec": {
   "display_name": ".venv (3.12.3)",
   "language": "python",
   "name": "python3"
  },
  "language_info": {
   "codemirror_mode": {
    "name": "ipython",
    "version": 3
   },
   "file_extension": ".py",
   "mimetype": "text/x-python",
   "name": "python",
   "nbconvert_exporter": "python",
   "pygments_lexer": "ipython3",
   "version": "3.12.3"
  }
 },
 "nbformat": 4,
 "nbformat_minor": 5
}
