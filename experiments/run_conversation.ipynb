{
 "cells": [
  {
   "cell_type": "code",
   "execution_count": 1,
   "id": "e83ca2fc",
   "metadata": {},
   "outputs": [],
   "source": [
    "%load_ext autoreload\n",
    "%autoreload 2"
   ]
  },
  {
   "cell_type": "code",
   "execution_count": 2,
   "id": "82a07892",
   "metadata": {},
   "outputs": [
    {
     "name": "stdout",
     "output_type": "stream",
     "text": [
      "/home/taint/CodeSpace/adk-samples/agents/agent_demo\n"
     ]
    }
   ],
   "source": [
    "%cd .."
   ]
  },
  {
   "cell_type": "code",
   "execution_count": 3,
   "id": "8bc2c859",
   "metadata": {},
   "outputs": [
    {
     "name": "stdout",
     "output_type": "stream",
     "text": [
      "db  experiments  main.py  pyproject.toml  README.md  src  uv.lock\n"
     ]
    }
   ],
   "source": [
    "!ls"
   ]
  },
  {
   "cell_type": "code",
   "execution_count": 4,
   "id": "b856581a",
   "metadata": {},
   "outputs": [],
   "source": [
    "from src.services.agent_runner import setup_session_service_and_runner\n",
    "from google.genai import types"
   ]
  },
  {
   "cell_type": "code",
   "execution_count": 5,
   "id": "a8009e50",
   "metadata": {},
   "outputs": [],
   "source": [
    "async def async_main(query:str):\n",
    "    session, runner, exit_stack = await setup_session_service_and_runner(app_name=\"mcp\", user_id=\"taint2\", session_id=\"2\")\n",
    "    \n",
    "    content = types.Content(role='user', parts=[types.Part(text=query)])\n",
    "\n",
    "    print(\"Running agent...\")\n",
    "    events_async = runner.run_async(\n",
    "        session_id=session.id, user_id=session.user_id, new_message=content\n",
    "    )\n",
    "\n",
    "    async for event in events_async:\n",
    "        print(\"Event received:\", event)\n",
    "\n",
    "    # Crucial Cleanup: Ensure the MCP server process connection is closed.\n",
    "    print(\"Closing MCP server connection...\")\n",
    "    await exit_stack.aclose()\n",
    "    print(\"Cleanup complete.\")"
   ]
  },
  {
   "cell_type": "code",
   "execution_count": 7,
   "id": "59d8cc5a",
   "metadata": {},
   "outputs": [
    {
     "name": "stderr",
     "output_type": "stream",
     "text": [
      "\u001b[32m2025-04-28 11:24:29.158\u001b[0m | \u001b[1mINFO    \u001b[0m | \u001b[36msrc.resources.mcp_server.mcp_alchemy\u001b[0m:\u001b[36mget_sqlite_alchemy_client\u001b[0m:\u001b[36m6\u001b[0m - \u001b[1mAttempting to connect to Alchemy client...\u001b[0m\n",
      "\u001b[32m2025-04-28 11:24:29.159\u001b[0m | \u001b[1mINFO    \u001b[0m | \u001b[36msrc.resources.mcp_server.mcp_alchemy\u001b[0m:\u001b[36mget_sqlite_alchemy_client\u001b[0m:\u001b[36m6\u001b[0m - \u001b[1mAttempting to connect to Alchemy client...\u001b[0m\n",
      "\u001b[32m2025-04-28 11:24:29.159\u001b[0m | \u001b[1mINFO    \u001b[0m | \u001b[36msrc.resources.mcp_server.mcp_alchemy\u001b[0m:\u001b[36mget_sqlite_alchemy_client\u001b[0m:\u001b[36m6\u001b[0m - \u001b[1mAttempting to connect to Alchemy client...\u001b[0m\n",
      "\u001b[32m2025-04-28 11:24:29.159\u001b[0m | \u001b[1mINFO    \u001b[0m | \u001b[36msrc.resources.mcp_server.mcp_alchemy\u001b[0m:\u001b[36mget_sqlite_alchemy_client\u001b[0m:\u001b[36m6\u001b[0m - \u001b[1mAttempting to connect to Alchemy client...\u001b[0m\n",
      "\u001b[32m2025-04-28 11:24:29.160\u001b[0m | \u001b[1mINFO    \u001b[0m | \u001b[36msrc.resources.mcp_server.mcp_alchemy\u001b[0m:\u001b[36mget_sqlite_alchemy_client\u001b[0m:\u001b[36m6\u001b[0m - \u001b[1mAttempting to connect to Alchemy client...\u001b[0m\n"
     ]
    },
    {
     "name": "stderr",
     "output_type": "stream",
     "text": [
      "\u001b[32m2025-04-28 11:24:30.610\u001b[0m | \u001b[1mINFO    \u001b[0m | \u001b[36msrc.services.agent_runner\u001b[0m:\u001b[36msetup_session_service_and_runner\u001b[0m:\u001b[36m34\u001b[0m - \u001b[1mSession created: App='mcp', User='taint2', Session='2'\u001b[0m\n",
      "\u001b[32m2025-04-28 11:24:30.610\u001b[0m | \u001b[1mINFO    \u001b[0m | \u001b[36msrc.services.agent_runner\u001b[0m:\u001b[36msetup_session_service_and_runner\u001b[0m:\u001b[36m46\u001b[0m - \u001b[1mRunner created for agent 'main_agent_v2'.\u001b[0m\n",
      "\u001b[32m2025-04-28 11:24:30.616\u001b[0m | \u001b[1mINFO    \u001b[0m | \u001b[36msrc.services.agent_runner\u001b[0m:\u001b[36msetup_session_service_and_runner\u001b[0m:\u001b[36m34\u001b[0m - \u001b[1mSession created: App='mcp', User='taint2', Session='2'\u001b[0m\n",
      "\u001b[32m2025-04-28 11:24:30.616\u001b[0m | \u001b[1mINFO    \u001b[0m | \u001b[36msrc.services.agent_runner\u001b[0m:\u001b[36msetup_session_service_and_runner\u001b[0m:\u001b[36m46\u001b[0m - \u001b[1mRunner created for agent 'main_agent_v2'.\u001b[0m\n",
      "\u001b[32m2025-04-28 11:24:30.620\u001b[0m | \u001b[1mINFO    \u001b[0m | \u001b[36msrc.services.agent_runner\u001b[0m:\u001b[36msetup_session_service_and_runner\u001b[0m:\u001b[36m34\u001b[0m - \u001b[1mSession created: App='mcp', User='taint2', Session='2'\u001b[0m\n",
      "\u001b[32m2025-04-28 11:24:30.620\u001b[0m | \u001b[1mINFO    \u001b[0m | \u001b[36msrc.services.agent_runner\u001b[0m:\u001b[36msetup_session_service_and_runner\u001b[0m:\u001b[36m46\u001b[0m - \u001b[1mRunner created for agent 'main_agent_v2'.\u001b[0m\n",
      "\u001b[32m2025-04-28 11:24:30.627\u001b[0m | \u001b[1mINFO    \u001b[0m | \u001b[36msrc.services.agent_runner\u001b[0m:\u001b[36msetup_session_service_and_runner\u001b[0m:\u001b[36m34\u001b[0m - \u001b[1mSession created: App='mcp', User='taint2', Session='2'\u001b[0m\n",
      "\u001b[32m2025-04-28 11:24:30.627\u001b[0m | \u001b[1mINFO    \u001b[0m | \u001b[36msrc.services.agent_runner\u001b[0m:\u001b[36msetup_session_service_and_runner\u001b[0m:\u001b[36m46\u001b[0m - \u001b[1mRunner created for agent 'main_agent_v2'.\u001b[0m\n",
      "\u001b[32m2025-04-28 11:24:30.650\u001b[0m | \u001b[1mINFO    \u001b[0m | \u001b[36msrc.services.agent_runner\u001b[0m:\u001b[36msetup_session_service_and_runner\u001b[0m:\u001b[36m34\u001b[0m - \u001b[1mSession created: App='mcp', User='taint2', Session='2'\u001b[0m\n",
      "\u001b[32m2025-04-28 11:24:30.650\u001b[0m | \u001b[1mINFO    \u001b[0m | \u001b[36msrc.services.agent_runner\u001b[0m:\u001b[36msetup_session_service_and_runner\u001b[0m:\u001b[36m46\u001b[0m - \u001b[1mRunner created for agent 'main_agent_v2'.\u001b[0m\n"
     ]
    },
    {
     "name": "stdout",
     "output_type": "stream",
     "text": [
      "Running agent...\n",
      "Running agent...\n",
      "Running agent...\n",
      "Running agent...\n",
      "Running agent...\n",
      "Event received: content=Content(parts=[Part(video_metadata=None, thought=None, code_execution_result=None, executable_code=None, file_data=None, function_call=FunctionCall(id='0', args={'agent_name': 'sql_agent_v0'}, name='transfer_to_agent'), function_response=None, inline_data=None, text=None)], role='model') grounding_metadata=None partial=False turn_complete=None error_code=None error_message=None interrupted=None invocation_id='e-8fe5fef3-a488-4359-b1fe-18b59f3c36e5' author='main_agent_v2' actions=EventActions(skip_summarization=None, state_delta={}, artifact_delta={}, transfer_to_agent=None, escalate=None, requested_auth_configs={}) long_running_tool_ids=set() branch=None id='A0v5Odbs' timestamp=1745814270.621292\n",
      "Event received: content=Content(parts=[Part(video_metadata=None, thought=None, code_execution_result=None, executable_code=None, file_data=None, function_call=None, function_response=FunctionResponse(id='0', name='transfer_to_agent', response={}), inline_data=None, text=None)], role='user') grounding_metadata=None partial=None turn_complete=None error_code=None error_message=None interrupted=None invocation_id='e-8fe5fef3-a488-4359-b1fe-18b59f3c36e5' author='main_agent_v2' actions=EventActions(skip_summarization=None, state_delta={}, artifact_delta={}, transfer_to_agent='sql_agent_v0', escalate=None, requested_auth_configs={}) long_running_tool_ids=None branch=None id='48HQznGU' timestamp=1745814274.552422\n",
      "Event received: content=Content(parts=[Part(video_metadata=None, thought=None, code_execution_result=None, executable_code=None, file_data=None, function_call=None, function_response=None, inline_data=None, text='transfer_to_agent\\n{\"agent_name\": \"sql_agent_v0\"}')], role='model') grounding_metadata=None partial=False turn_complete=None error_code=None error_message=None interrupted=None invocation_id='e-9757b88d-b1ce-4dc0-b18f-225cd0e89f18' author='main_agent_v2' actions=EventActions(skip_summarization=None, state_delta={}, artifact_delta={}, transfer_to_agent=None, escalate=None, requested_auth_configs={}) long_running_tool_ids=None branch=None id='4RsjzsGA' timestamp=1745814270.617327\n",
      "Closing MCP server connection...\n",
      "Cleanup complete.\n"
     ]
    },
    {
     "name": "stderr",
     "output_type": "stream",
     "text": [
      "/home/taint/CodeSpace/adk-samples/agents/agent_demo/.venv/lib/python3.12/site-packages/google/genai/_common.py:237: UserWarning: null is not a valid Type\n",
      "  warnings.warn(f\"{value} is not a valid {cls.__name__}\")\n"
     ]
    },
    {
     "name": "stdout",
     "output_type": "stream",
     "text": [
      "Event received: content=Content(parts=[Part(video_metadata=None, thought=None, code_execution_result=None, executable_code=None, file_data=None, function_call=FunctionCall(id='0', args={'agent_name': 'sql_agent_v0'}, name='transfer_to_agent'), function_response=None, inline_data=None, text=None)], role='model') grounding_metadata=None partial=False turn_complete=None error_code=None error_message=None interrupted=None invocation_id='e-6c19ff63-492b-4938-91f2-68e5c7773b5c' author='main_agent_v2' actions=EventActions(skip_summarization=None, state_delta={}, artifact_delta={}, transfer_to_agent=None, escalate=None, requested_auth_configs={}) long_running_tool_ids=set() branch=None id='gf6Mn6zX' timestamp=1745814270.651256\n",
      "Event received: content=Content(parts=[Part(video_metadata=None, thought=None, code_execution_result=None, executable_code=None, file_data=None, function_call=None, function_response=FunctionResponse(id='0', name='transfer_to_agent', response={}), inline_data=None, text=None)], role='user') grounding_metadata=None partial=None turn_complete=None error_code=None error_message=None interrupted=None invocation_id='e-6c19ff63-492b-4938-91f2-68e5c7773b5c' author='main_agent_v2' actions=EventActions(skip_summarization=None, state_delta={}, artifact_delta={}, transfer_to_agent='sql_agent_v0', escalate=None, requested_auth_configs={}) long_running_tool_ids=None branch=None id='3T1Ms1jw' timestamp=1745814275.881566\n",
      "Event received: content=Content(parts=[Part(video_metadata=None, thought=None, code_execution_result=None, executable_code=None, file_data=None, function_call=FunctionCall(id='0', args={'agent_name': 'sql_agent_v0'}, name='transfer_to_agent'), function_response=None, inline_data=None, text=None)], role='model') grounding_metadata=None partial=False turn_complete=None error_code=None error_message=None interrupted=None invocation_id='e-4e21f532-6613-48e2-aee2-649a4008a20e' author='main_agent_v2' actions=EventActions(skip_summarization=None, state_delta={}, artifact_delta={}, transfer_to_agent=None, escalate=None, requested_auth_configs={}) long_running_tool_ids=set() branch=None id='Vv0zIPnz' timestamp=1745814270.62843\n",
      "Event received: content=Content(parts=[Part(video_metadata=None, thought=None, code_execution_result=None, executable_code=None, file_data=None, function_call=None, function_response=FunctionResponse(id='0', name='transfer_to_agent', response={}), inline_data=None, text=None)], role='user') grounding_metadata=None partial=None turn_complete=None error_code=None error_message=None interrupted=None invocation_id='e-4e21f532-6613-48e2-aee2-649a4008a20e' author='main_agent_v2' actions=EventActions(skip_summarization=None, state_delta={}, artifact_delta={}, transfer_to_agent='sql_agent_v0', escalate=None, requested_auth_configs={}) long_running_tool_ids=None branch=None id='9Jpq6aQB' timestamp=1745814276.815839\n",
      "Event received: content=Content(parts=[Part(video_metadata=None, thought=None, code_execution_result=None, executable_code=None, file_data=None, function_call=None, function_response=None, inline_data=None, text='transfer_to_agent\\n{\"agent_name\": \"sql_agent_v0\"}')], role='model') grounding_metadata=None partial=False turn_complete=None error_code=None error_message=None interrupted=None invocation_id='e-9ac2be3c-05d2-4c5b-a766-3eb53a6b29b0' author='main_agent_v2' actions=EventActions(skip_summarization=None, state_delta={}, artifact_delta={}, transfer_to_agent=None, escalate=None, requested_auth_configs={}) long_running_tool_ids=None branch=None id='VUUH2Ov9' timestamp=1745814270.612484\n",
      "Closing MCP server connection...\n",
      "Cleanup complete.\n",
      "Event received: content=Content(parts=[Part(video_metadata=None, thought=None, code_execution_result=None, executable_code=None, file_data=None, function_call=FunctionCall(id='1', args={'dummy_DO_NOT_GENERATE': ''}, name='all_table_names'), function_response=None, inline_data=None, text=None)], role='model') grounding_metadata=None partial=False turn_complete=None error_code=None error_message=None interrupted=None invocation_id='e-6c19ff63-492b-4938-91f2-68e5c7773b5c' author='sql_agent_v0' actions=EventActions(skip_summarization=None, state_delta={}, artifact_delta={}, transfer_to_agent=None, escalate=None, requested_auth_configs={}) long_running_tool_ids=set() branch=None id='yXweG2Tr' timestamp=1745814275.882142\n",
      "Event received: content=Content(parts=[Part(video_metadata=None, thought=None, code_execution_result=None, executable_code=None, file_data=None, function_call=None, function_response=FunctionResponse(id='1', name='all_table_names', response={'result': CallToolResult(meta=None, content=[TextContent(type='text', text='albums, artists, customers, employees, genres, invoice_items, invoices, media_types, playlist_track, playlists, tracks', annotations=None)], isError=False)}), inline_data=None, text=None)], role='user') grounding_metadata=None partial=None turn_complete=None error_code=None error_message=None interrupted=None invocation_id='e-6c19ff63-492b-4938-91f2-68e5c7773b5c' author='sql_agent_v0' actions=EventActions(skip_summarization=None, state_delta={}, artifact_delta={}, transfer_to_agent=None, escalate=None, requested_auth_configs={}) long_running_tool_ids=None branch=None id='05KGvB75' timestamp=1745814279.604606\n",
      "Event received: content=Content(parts=[Part(video_metadata=None, thought=None, code_execution_result=None, executable_code=None, file_data=None, function_call=FunctionCall(id='1', args={}, name='all_table_names'), function_response=None, inline_data=None, text=None)], role='model') grounding_metadata=None partial=False turn_complete=None error_code=None error_message=None interrupted=None invocation_id='e-8fe5fef3-a488-4359-b1fe-18b59f3c36e5' author='sql_agent_v0' actions=EventActions(skip_summarization=None, state_delta={}, artifact_delta={}, transfer_to_agent=None, escalate=None, requested_auth_configs={}) long_running_tool_ids=set() branch=None id='2Zcv2Mwa' timestamp=1745814274.553071\n",
      "Event received: content=Content(parts=[Part(video_metadata=None, thought=None, code_execution_result=None, executable_code=None, file_data=None, function_call=None, function_response=FunctionResponse(id='1', name='all_table_names', response={'result': CallToolResult(meta=None, content=[TextContent(type='text', text='albums, artists, customers, employees, genres, invoice_items, invoices, media_types, playlist_track, playlists, tracks', annotations=None)], isError=False)}), inline_data=None, text=None)], role='user') grounding_metadata=None partial=None turn_complete=None error_code=None error_message=None interrupted=None invocation_id='e-8fe5fef3-a488-4359-b1fe-18b59f3c36e5' author='sql_agent_v0' actions=EventActions(skip_summarization=None, state_delta={}, artifact_delta={}, transfer_to_agent=None, escalate=None, requested_auth_configs={}) long_running_tool_ids=None branch=None id='h9KwdAiP' timestamp=1745814280.189531\n",
      "Event received: content=Content(parts=[Part(video_metadata=None, thought=None, code_execution_result=None, executable_code=None, file_data=None, function_call=None, function_response=None, inline_data=None, text='The database name is **chinook.db**, located at the path `/home/taint/CodeSpace/adk-samples/agents/agent_demo/db/chinook.db`.')], role='model') grounding_metadata=None partial=False turn_complete=None error_code=None error_message=None interrupted=None invocation_id='e-4e21f532-6613-48e2-aee2-649a4008a20e' author='sql_agent_v0' actions=EventActions(skip_summarization=None, state_delta={}, artifact_delta={}, transfer_to_agent=None, escalate=None, requested_auth_configs={}) long_running_tool_ids=None branch=None id='8pvv5wyn' timestamp=1745814276.816912\n",
      "Closing MCP server connection...\n",
      "Cleanup complete.\n",
      "Event received: content=Content(parts=[Part(video_metadata=None, thought=None, code_execution_result=None, executable_code=None, file_data=None, function_call=None, function_response=None, inline_data=None, text='The database contains **11 tables**. Here is the list of tables separated by commas:\\n\\nalbums, artists, customers, employees, genres, invoice_items, invoices, media_types, playlist_track, playlists, tracks')], role='model') grounding_metadata=None partial=False turn_complete=None error_code=None error_message=None interrupted=None invocation_id='e-8fe5fef3-a488-4359-b1fe-18b59f3c36e5' author='sql_agent_v0' actions=EventActions(skip_summarization=None, state_delta={}, artifact_delta={}, transfer_to_agent=None, escalate=None, requested_auth_configs={}) long_running_tool_ids=None branch=None id='KgzH7sPO' timestamp=1745814280.190602\n",
      "Closing MCP server connection...\n",
      "Cleanup complete.\n",
      "Event received: content=Content(parts=[Part(video_metadata=None, thought=None, code_execution_result=None, executable_code=None, file_data=None, function_call=None, function_response=None, inline_data=None, text='There are **11 tables** in the database. The tables are:  \\nalbums, artists, customers, employees, genres, invoice_items, invoices, media_types, playlist_track, playlists, tracks.')], role='model') grounding_metadata=None partial=False turn_complete=None error_code=None error_message=None interrupted=None invocation_id='e-6c19ff63-492b-4938-91f2-68e5c7773b5c' author='sql_agent_v0' actions=EventActions(skip_summarization=None, state_delta={}, artifact_delta={}, transfer_to_agent=None, escalate=None, requested_auth_configs={}) long_running_tool_ids=None branch=None id='kqvuOe0p' timestamp=1745814279.605375\n",
      "Closing MCP server connection...\n",
      "Cleanup complete.\n"
     ]
    },
    {
     "data": {
      "text/plain": [
       "[None, None, None, None, None]"
      ]
     },
     "execution_count": 7,
     "metadata": {},
     "output_type": "execute_result"
    }
   ],
   "source": [
    "import asyncio\n",
    "\n",
    "# Run the async_main calls in parallel- sglang\n",
    "await asyncio.gather(\n",
    "    async_main(\"how many the tables in the database?\"),\n",
    "    async_main(\"What is the name of the database?\"),\n",
    "    async_main(\"What is the schema of the albums table?\"),\n",
    "    async_main(\"What name of media type of the Fast As a Shark track?\"),\n",
    "    async_main(\"how many the tables in the database?\"),\n",
    ")"
   ]
  },
  {
   "cell_type": "code",
   "execution_count": 8,
   "id": "fb389e4d",
   "metadata": {},
   "outputs": [
    {
     "name": "stderr",
     "output_type": "stream",
     "text": [
      "\u001b[32m2025-04-28 11:25:33.557\u001b[0m | \u001b[1mINFO    \u001b[0m | \u001b[36msrc.resources.mcp_server.mcp_alchemy\u001b[0m:\u001b[36mget_sqlite_alchemy_client\u001b[0m:\u001b[36m6\u001b[0m - \u001b[1mAttempting to connect to Alchemy client...\u001b[0m\n",
      "\u001b[32m2025-04-28 11:25:33.558\u001b[0m | \u001b[1mINFO    \u001b[0m | \u001b[36msrc.resources.mcp_server.mcp_alchemy\u001b[0m:\u001b[36mget_sqlite_alchemy_client\u001b[0m:\u001b[36m6\u001b[0m - \u001b[1mAttempting to connect to Alchemy client...\u001b[0m\n",
      "\u001b[32m2025-04-28 11:25:33.558\u001b[0m | \u001b[1mINFO    \u001b[0m | \u001b[36msrc.resources.mcp_server.mcp_alchemy\u001b[0m:\u001b[36mget_sqlite_alchemy_client\u001b[0m:\u001b[36m6\u001b[0m - \u001b[1mAttempting to connect to Alchemy client...\u001b[0m\n",
      "\u001b[32m2025-04-28 11:25:33.559\u001b[0m | \u001b[1mINFO    \u001b[0m | \u001b[36msrc.resources.mcp_server.mcp_alchemy\u001b[0m:\u001b[36mget_sqlite_alchemy_client\u001b[0m:\u001b[36m6\u001b[0m - \u001b[1mAttempting to connect to Alchemy client...\u001b[0m\n"
     ]
    },
    {
     "name": "stderr",
     "output_type": "stream",
     "text": [
      "\u001b[32m2025-04-28 11:25:34.883\u001b[0m | \u001b[1mINFO    \u001b[0m | \u001b[36msrc.services.agent_runner\u001b[0m:\u001b[36msetup_session_service_and_runner\u001b[0m:\u001b[36m34\u001b[0m - \u001b[1mSession created: App='mcp', User='taint2', Session='2'\u001b[0m\n",
      "\u001b[32m2025-04-28 11:25:34.884\u001b[0m | \u001b[1mINFO    \u001b[0m | \u001b[36msrc.services.agent_runner\u001b[0m:\u001b[36msetup_session_service_and_runner\u001b[0m:\u001b[36m46\u001b[0m - \u001b[1mRunner created for agent 'main_agent_v2'.\u001b[0m\n",
      "\u001b[32m2025-04-28 11:25:34.902\u001b[0m | \u001b[1mINFO    \u001b[0m | \u001b[36msrc.services.agent_runner\u001b[0m:\u001b[36msetup_session_service_and_runner\u001b[0m:\u001b[36m34\u001b[0m - \u001b[1mSession created: App='mcp', User='taint2', Session='2'\u001b[0m\n",
      "\u001b[32m2025-04-28 11:25:34.903\u001b[0m | \u001b[1mINFO    \u001b[0m | \u001b[36msrc.services.agent_runner\u001b[0m:\u001b[36msetup_session_service_and_runner\u001b[0m:\u001b[36m46\u001b[0m - \u001b[1mRunner created for agent 'main_agent_v2'.\u001b[0m\n",
      "\u001b[32m2025-04-28 11:25:34.906\u001b[0m | \u001b[1mINFO    \u001b[0m | \u001b[36msrc.services.agent_runner\u001b[0m:\u001b[36msetup_session_service_and_runner\u001b[0m:\u001b[36m34\u001b[0m - \u001b[1mSession created: App='mcp', User='taint2', Session='2'\u001b[0m\n",
      "\u001b[32m2025-04-28 11:25:34.906\u001b[0m | \u001b[1mINFO    \u001b[0m | \u001b[36msrc.services.agent_runner\u001b[0m:\u001b[36msetup_session_service_and_runner\u001b[0m:\u001b[36m46\u001b[0m - \u001b[1mRunner created for agent 'main_agent_v2'.\u001b[0m\n",
      "\u001b[32m2025-04-28 11:25:34.958\u001b[0m | \u001b[1mINFO    \u001b[0m | \u001b[36msrc.services.agent_runner\u001b[0m:\u001b[36msetup_session_service_and_runner\u001b[0m:\u001b[36m34\u001b[0m - \u001b[1mSession created: App='mcp', User='taint2', Session='2'\u001b[0m\n",
      "\u001b[32m2025-04-28 11:25:34.959\u001b[0m | \u001b[1mINFO    \u001b[0m | \u001b[36msrc.services.agent_runner\u001b[0m:\u001b[36msetup_session_service_and_runner\u001b[0m:\u001b[36m46\u001b[0m - \u001b[1mRunner created for agent 'main_agent_v2'.\u001b[0m\n"
     ]
    },
    {
     "name": "stdout",
     "output_type": "stream",
     "text": [
      "Running agent...\n",
      "Running agent...\n",
      "Running agent...\n",
      "Running agent...\n",
      "Event received: content=Content(parts=[Part(video_metadata=None, thought=None, code_execution_result=None, executable_code=None, file_data=None, function_call=None, function_response=None, inline_data=None, text='\\n\\n'), Part(video_metadata=None, thought=None, code_execution_result=None, executable_code=None, file_data=None, function_call=FunctionCall(id='chatcmpl-tool-fb9fcf30c5464e45a2a7bc176d25d127', args={'agent_name': 'sql_agent_v0'}, name='transfer_to_agent'), function_response=None, inline_data=None, text=None)], role='model') grounding_metadata=None partial=False turn_complete=None error_code=None error_message=None interrupted=None invocation_id='e-462dc29b-c2b2-4aa2-9408-3084ba2331a2' author='main_agent_v2' actions=EventActions(skip_summarization=None, state_delta={}, artifact_delta={}, transfer_to_agent=None, escalate=None, requested_auth_configs={}) long_running_tool_ids=set() branch=None id='bM3KzIf7' timestamp=1745814334.907691\n",
      "Event received: content=Content(parts=[Part(video_metadata=None, thought=None, code_execution_result=None, executable_code=None, file_data=None, function_call=None, function_response=FunctionResponse(id='chatcmpl-tool-fb9fcf30c5464e45a2a7bc176d25d127', name='transfer_to_agent', response={}), inline_data=None, text=None)], role='user') grounding_metadata=None partial=None turn_complete=None error_code=None error_message=None interrupted=None invocation_id='e-462dc29b-c2b2-4aa2-9408-3084ba2331a2' author='main_agent_v2' actions=EventActions(skip_summarization=None, state_delta={}, artifact_delta={}, transfer_to_agent='sql_agent_v0', escalate=None, requested_auth_configs={}) long_running_tool_ids=None branch=None id='pspY3cqA' timestamp=1745814340.066207\n"
     ]
    },
    {
     "name": "stderr",
     "output_type": "stream",
     "text": [
      "/home/taint/CodeSpace/adk-samples/agents/agent_demo/.venv/lib/python3.12/site-packages/google/genai/_common.py:237: UserWarning: null is not a valid Type\n",
      "  warnings.warn(f\"{value} is not a valid {cls.__name__}\")\n"
     ]
    },
    {
     "name": "stdout",
     "output_type": "stream",
     "text": [
      "Event received: content=Content(parts=[Part(video_metadata=None, thought=None, code_execution_result=None, executable_code=None, file_data=None, function_call=None, function_response=None, inline_data=None, text='\\n\\n'), Part(video_metadata=None, thought=None, code_execution_result=None, executable_code=None, file_data=None, function_call=FunctionCall(id='chatcmpl-tool-6666a6f20eac476194bf54797af5ccd0', args={'agent_name': 'sql_agent_v0'}, name='transfer_to_agent'), function_response=None, inline_data=None, text=None)], role='model') grounding_metadata=None partial=False turn_complete=None error_code=None error_message=None interrupted=None invocation_id='e-3cd0ab50-ae44-4348-936a-71c91c7e87e5' author='main_agent_v2' actions=EventActions(skip_summarization=None, state_delta={}, artifact_delta={}, transfer_to_agent=None, escalate=None, requested_auth_configs={}) long_running_tool_ids=set() branch=None id='R9udqr5w' timestamp=1745814334.904208\n",
      "Event received: content=Content(parts=[Part(video_metadata=None, thought=None, code_execution_result=None, executable_code=None, file_data=None, function_call=None, function_response=FunctionResponse(id='chatcmpl-tool-6666a6f20eac476194bf54797af5ccd0', name='transfer_to_agent', response={}), inline_data=None, text=None)], role='user') grounding_metadata=None partial=None turn_complete=None error_code=None error_message=None interrupted=None invocation_id='e-3cd0ab50-ae44-4348-936a-71c91c7e87e5' author='main_agent_v2' actions=EventActions(skip_summarization=None, state_delta={}, artifact_delta={}, transfer_to_agent='sql_agent_v0', escalate=None, requested_auth_configs={}) long_running_tool_ids=None branch=None id='sGiWrYaE' timestamp=1745814342.231444\n",
      "Event received: content=Content(parts=[Part(video_metadata=None, thought=None, code_execution_result=None, executable_code=None, file_data=None, function_call=None, function_response=None, inline_data=None, text='\\n\\n'), Part(video_metadata=None, thought=None, code_execution_result=None, executable_code=None, file_data=None, function_call=FunctionCall(id='chatcmpl-tool-da25229d9b6c4fb2bf0eda6a4a693adf', args={'agent_name': 'sql_agent_v0'}, name='transfer_to_agent'), function_response=None, inline_data=None, text=None)], role='model') grounding_metadata=None partial=False turn_complete=None error_code=None error_message=None interrupted=None invocation_id='e-2834990d-fc5d-4f23-9c62-c57557b8be5d' author='main_agent_v2' actions=EventActions(skip_summarization=None, state_delta={}, artifact_delta={}, transfer_to_agent=None, escalate=None, requested_auth_configs={}) long_running_tool_ids=set() branch=None id='AKHrVinx' timestamp=1745814334.960349\n",
      "Event received: content=Content(parts=[Part(video_metadata=None, thought=None, code_execution_result=None, executable_code=None, file_data=None, function_call=None, function_response=FunctionResponse(id='chatcmpl-tool-da25229d9b6c4fb2bf0eda6a4a693adf', name='transfer_to_agent', response={}), inline_data=None, text=None)], role='user') grounding_metadata=None partial=None turn_complete=None error_code=None error_message=None interrupted=None invocation_id='e-2834990d-fc5d-4f23-9c62-c57557b8be5d' author='main_agent_v2' actions=EventActions(skip_summarization=None, state_delta={}, artifact_delta={}, transfer_to_agent='sql_agent_v0', escalate=None, requested_auth_configs={}) long_running_tool_ids=None branch=None id='pIjUdCYG' timestamp=1745814343.372748\n",
      "Event received: content=Content(parts=[Part(video_metadata=None, thought=None, code_execution_result=None, executable_code=None, file_data=None, function_call=None, function_response=None, inline_data=None, text='\\n\\n'), Part(video_metadata=None, thought=None, code_execution_result=None, executable_code=None, file_data=None, function_call=FunctionCall(id='chatcmpl-tool-cafaf1b70dd7400a801ccd4e207115cd', args={'agent_name': 'sql_agent_v0'}, name='transfer_to_agent'), function_response=None, inline_data=None, text=None)], role='model') grounding_metadata=None partial=False turn_complete=None error_code=None error_message=None interrupted=None invocation_id='e-8e75d8f9-c7d0-4343-91c7-6e0eff576d4f' author='main_agent_v2' actions=EventActions(skip_summarization=None, state_delta={}, artifact_delta={}, transfer_to_agent=None, escalate=None, requested_auth_configs={}) long_running_tool_ids=set() branch=None id='lP0KpoaG' timestamp=1745814334.885356\n",
      "Event received: content=Content(parts=[Part(video_metadata=None, thought=None, code_execution_result=None, executable_code=None, file_data=None, function_call=None, function_response=FunctionResponse(id='chatcmpl-tool-cafaf1b70dd7400a801ccd4e207115cd', name='transfer_to_agent', response={}), inline_data=None, text=None)], role='user') grounding_metadata=None partial=None turn_complete=None error_code=None error_message=None interrupted=None invocation_id='e-8e75d8f9-c7d0-4343-91c7-6e0eff576d4f' author='main_agent_v2' actions=EventActions(skip_summarization=None, state_delta={}, artifact_delta={}, transfer_to_agent='sql_agent_v0', escalate=None, requested_auth_configs={}) long_running_tool_ids=None branch=None id='QcXTMi7R' timestamp=1745814345.548461\n",
      "Event received: content=Content(parts=[Part(video_metadata=None, thought=None, code_execution_result=None, executable_code=None, file_data=None, function_call=None, function_response=None, inline_data=None, text='\\n\\n'), Part(video_metadata=None, thought=None, code_execution_result=None, executable_code=None, file_data=None, function_call=FunctionCall(id='chatcmpl-tool-c47dfb7fcc304797be74814c00a03301', args={'dummy_DO_NOT_GENERATE': ''}, name='all_table_names'), function_response=None, inline_data=None, text=None)], role='model') grounding_metadata=None partial=False turn_complete=None error_code=None error_message=None interrupted=None invocation_id='e-3cd0ab50-ae44-4348-936a-71c91c7e87e5' author='sql_agent_v0' actions=EventActions(skip_summarization=None, state_delta={}, artifact_delta={}, transfer_to_agent=None, escalate=None, requested_auth_configs={}) long_running_tool_ids=set() branch=None id='N0XFQtJU' timestamp=1745814342.23232\n",
      "Event received: content=Content(parts=[Part(video_metadata=None, thought=None, code_execution_result=None, executable_code=None, file_data=None, function_call=None, function_response=FunctionResponse(id='chatcmpl-tool-c47dfb7fcc304797be74814c00a03301', name='all_table_names', response={'result': CallToolResult(meta=None, content=[TextContent(type='text', text='albums, artists, customers, employees, genres, invoice_items, invoices, media_types, playlist_track, playlists, tracks', annotations=None)], isError=False)}), inline_data=None, text=None)], role='user') grounding_metadata=None partial=None turn_complete=None error_code=None error_message=None interrupted=None invocation_id='e-3cd0ab50-ae44-4348-936a-71c91c7e87e5' author='sql_agent_v0' actions=EventActions(skip_summarization=None, state_delta={}, artifact_delta={}, transfer_to_agent=None, escalate=None, requested_auth_configs={}) long_running_tool_ids=None branch=None id='Rf1l300Z' timestamp=1745814346.378313\n",
      "Event received: content=Content(parts=[Part(video_metadata=None, thought=None, code_execution_result=None, executable_code=None, file_data=None, function_call=None, function_response=None, inline_data=None, text='\\n\\n'), Part(video_metadata=None, thought=None, code_execution_result=None, executable_code=None, file_data=None, function_call=FunctionCall(id='chatcmpl-tool-9a56b458d82c49d69421541e2c081668', args={'table_names': ['Album']}, name='schema_definitions'), function_response=None, inline_data=None, text=None)], role='model') grounding_metadata=None partial=False turn_complete=None error_code=None error_message=None interrupted=None invocation_id='e-462dc29b-c2b2-4aa2-9408-3084ba2331a2' author='sql_agent_v0' actions=EventActions(skip_summarization=None, state_delta={}, artifact_delta={}, transfer_to_agent=None, escalate=None, requested_auth_configs={}) long_running_tool_ids=set() branch=None id='TWDiIaML' timestamp=1745814340.067228\n",
      "Event received: content=Content(parts=[Part(video_metadata=None, thought=None, code_execution_result=None, executable_code=None, file_data=None, function_call=None, function_response=FunctionResponse(id='chatcmpl-tool-9a56b458d82c49d69421541e2c081668', name='schema_definitions', response={'result': CallToolResult(meta=None, content=[TextContent(type='text', text='Error executing tool schema_definitions: Album', annotations=None)], isError=True)}), inline_data=None, text=None)], role='user') grounding_metadata=None partial=None turn_complete=None error_code=None error_message=None interrupted=None invocation_id='e-462dc29b-c2b2-4aa2-9408-3084ba2331a2' author='sql_agent_v0' actions=EventActions(skip_summarization=None, state_delta={}, artifact_delta={}, transfer_to_agent=None, escalate=None, requested_auth_configs={}) long_running_tool_ids=None branch=None id='266Bqxyp' timestamp=1745814348.120815\n",
      "Event received: content=Content(parts=[Part(video_metadata=None, thought=None, code_execution_result=None, executable_code=None, file_data=None, function_call=None, function_response=None, inline_data=None, text='\\n\\nThe database name is **chinook.db**, located at the path `/home/taint/CodeSpace/adk-samples/agents/agent_demo/db/chinook.db`. This information is derived from the connection details embedded in the tool descriptions provided.')], role='model') grounding_metadata=None partial=False turn_complete=None error_code=None error_message=None interrupted=None invocation_id='e-2834990d-fc5d-4f23-9c62-c57557b8be5d' author='sql_agent_v0' actions=EventActions(skip_summarization=None, state_delta={}, artifact_delta={}, transfer_to_agent=None, escalate=None, requested_auth_configs={}) long_running_tool_ids=None branch=None id='JZt25Dmx' timestamp=1745814343.373323\n",
      "Closing MCP server connection...\n",
      "Cleanup complete.\n",
      "Event received: content=Content(parts=[Part(video_metadata=None, thought=None, code_execution_result=None, executable_code=None, file_data=None, function_call=None, function_response=None, inline_data=None, text='\\n\\nIt looks like there was an error retrieving the schema for \"Album\". Let me verify the exact table name first. \\n\\nI\\'ll check the available tables. Could you please confirm if the table is named \"Album\" or \"Albums\"? \\n\\nAlternatively, I can list all table names for you to confirm:\\n\\n<tools_call>\\n{\"name\": \"all_table_names\", \"arguments\": {\"dummy_DO_NOT_GENERATE\": \"\"}}\\n</tools_call>')], role='model') grounding_metadata=None partial=False turn_complete=None error_code=None error_message=None interrupted=None invocation_id='e-462dc29b-c2b2-4aa2-9408-3084ba2331a2' author='sql_agent_v0' actions=EventActions(skip_summarization=None, state_delta={}, artifact_delta={}, transfer_to_agent=None, escalate=None, requested_auth_configs={}) long_running_tool_ids=None branch=None id='xcKGWXzT' timestamp=1745814348.121581\n",
      "Closing MCP server connection...\n",
      "Cleanup complete.\n",
      "Event received: content=Content(parts=[Part(video_metadata=None, thought=None, code_execution_result=None, executable_code=None, file_data=None, function_call=None, function_response=None, inline_data=None, text=\"\\n\\nThe database contains **11 tables**. Here is the list of tables:\\n\\n1. albums  \\n2. artists  \\n3. customers  \\n4. employees  \\n5. genres  \\n6. invoice_items  \\n7. invoices  \\n8. media_types  \\n9. playlist_track  \\n10. playlists  \\n11. tracks  \\n\\nLet me know if you'd like to explore any specific table!\")], role='model') grounding_metadata=None partial=False turn_complete=None error_code=None error_message=None interrupted=None invocation_id='e-3cd0ab50-ae44-4348-936a-71c91c7e87e5' author='sql_agent_v0' actions=EventActions(skip_summarization=None, state_delta={}, artifact_delta={}, transfer_to_agent=None, escalate=None, requested_auth_configs={}) long_running_tool_ids=None branch=None id='pfLRhubB' timestamp=1745814346.379077\n",
      "Closing MCP server connection...\n",
      "Cleanup complete.\n",
      "Event received: content=Content(parts=[Part(video_metadata=None, thought=None, code_execution_result=None, executable_code=None, file_data=None, function_call=None, function_response=None, inline_data=None, text='\\n\\n'), Part(video_metadata=None, thought=None, code_execution_result=None, executable_code=None, file_data=None, function_call=FunctionCall(id='chatcmpl-tool-7bfdfbad45054a7695d4472535f8c49e', args={'query': \"SELECT mt.Name FROM tracks t JOIN media_types mt ON t.MediaTypeId = mt.MediaTypeId WHERE t.Name = 'Fast As a Shark';\", 'params': None}, name='execute_query'), function_response=None, inline_data=None, text=None)], role='model') grounding_metadata=None partial=False turn_complete=None error_code=None error_message=None interrupted=None invocation_id='e-8e75d8f9-c7d0-4343-91c7-6e0eff576d4f' author='sql_agent_v0' actions=EventActions(skip_summarization=None, state_delta={}, artifact_delta={}, transfer_to_agent=None, escalate=None, requested_auth_configs={}) long_running_tool_ids=set() branch=None id='3WhMqucM' timestamp=1745814345.549059\n",
      "Event received: content=Content(parts=[Part(video_metadata=None, thought=None, code_execution_result=None, executable_code=None, file_data=None, function_call=None, function_response=FunctionResponse(id='chatcmpl-tool-7bfdfbad45054a7695d4472535f8c49e', name='execute_query', response={'result': CallToolResult(meta=None, content=[TextContent(type='text', text='1. row\\nName: Protected AAC audio file\\n\\n\\nResult: 1 rows', annotations=None)], isError=False)}), inline_data=None, text=None)], role='user') grounding_metadata=None partial=None turn_complete=None error_code=None error_message=None interrupted=None invocation_id='e-8e75d8f9-c7d0-4343-91c7-6e0eff576d4f' author='sql_agent_v0' actions=EventActions(skip_summarization=None, state_delta={}, artifact_delta={}, transfer_to_agent=None, escalate=None, requested_auth_configs={}) long_running_tool_ids=None branch=None id='cHIzyiS8' timestamp=1745814357.966103\n",
      "Event received: content=Content(parts=[Part(video_metadata=None, thought=None, code_execution_result=None, executable_code=None, file_data=None, function_call=None, function_response=None, inline_data=None, text='\\n\\nThe media type name for the track \"Fast As a Shark\" is **Protected AAC audio file**.\\n\\nThis was determined by:\\n1. Querying the `tracks` table joined with `media_types` table\\n2. Matching the track name \\'Fast As a Shark\\'\\n3. Returning the associated media type name from the joined result\\n\\nThe SQL query used was:\\n```sql\\nSELECT mt.Name \\nFROM tracks t \\nJOIN media_types mt ON t.MediaTypeId = mt.MediaTypeId \\nWHERE t.Name = \\'Fast As a Shark\\';\\n```')], role='model') grounding_metadata=None partial=False turn_complete=None error_code=None error_message=None interrupted=None invocation_id='e-8e75d8f9-c7d0-4343-91c7-6e0eff576d4f' author='sql_agent_v0' actions=EventActions(skip_summarization=None, state_delta={}, artifact_delta={}, transfer_to_agent=None, escalate=None, requested_auth_configs={}) long_running_tool_ids=None branch=None id='stGWTDi0' timestamp=1745814357.966938\n",
      "Closing MCP server connection...\n",
      "Cleanup complete.\n"
     ]
    },
    {
     "data": {
      "text/plain": [
       "[None, None, None, None]"
      ]
     },
     "execution_count": 8,
     "metadata": {},
     "output_type": "execute_result"
    }
   ],
   "source": [
    "import asyncio\n",
    "\n",
    "# Run the async_main calls in parallel- vllm\n",
    "await asyncio.gather(\n",
    "    async_main(\"how many the tables in the database?\"),\n",
    "    async_main(\"What is the name of the database?\"),\n",
    "    async_main(\"What is the schema of the albums table?\"),\n",
    "    async_main(\"What name of media type of the Fast As a Shark track?\"),\n",
    ")"
   ]
  }
 ],
 "metadata": {
  "kernelspec": {
   "display_name": ".venv (3.12.3)",
   "language": "python",
   "name": "python3"
  },
  "language_info": {
   "codemirror_mode": {
    "name": "ipython",
    "version": 3
   },
   "file_extension": ".py",
   "mimetype": "text/x-python",
   "name": "python",
   "nbconvert_exporter": "python",
   "pygments_lexer": "ipython3",
   "version": "3.12.3"
  }
 },
 "nbformat": 4,
 "nbformat_minor": 5
}
